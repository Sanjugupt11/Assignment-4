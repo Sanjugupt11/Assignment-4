{
 "cells": [
  {
   "cell_type": "code",
   "execution_count": 45,
   "id": "3348bea5-d34b-4117-942a-a1882f453d39",
   "metadata": {},
   "outputs": [
    {
     "name": "stdout",
     "output_type": "stream",
     "text": [
      "1 3 5 7 9 11 13 15 17 19 21 23 "
     ]
    }
   ],
   "source": [
    "#Q1. Which keyword is used to create a function? Create a function to return a list of odd numbers in the  range of 1 to 25. \n",
    "# \"def \" keyword is used to create a function .\n",
    "def odd():\n",
    "    for i in range(1,25,2):\n",
    "         print(i,end=\" \")\n",
    "    return \n",
    "odd()\n",
    "    \n",
    "   "
   ]
  },
  {
   "cell_type": "code",
   "execution_count": null,
   "id": "d3afd560-2512-4319-af12-5c0d1322de76",
   "metadata": {},
   "outputs": [
    {
     "data": {
      "text/plain": [
       "{'banana': 5, 'mango': 7, 'apple': 8}"
      ]
     },
     "execution_count": 40,
     "metadata": {},
     "output_type": "execute_result"
    }
   ],
   "source": [
    "# Q2. Why *args and **kwargs is used in some functions? Create a function each for *args and **kwargs  to demonstrate their use\n",
    "'''Ans  *args in function definitions in python is used to pass a variable number of arguments to a function.it also use \n",
    "      for tuple in function,**kwargs *kwargs in function definitions in python is used to pass a keyworded, variable-length \n",
    "      argument list. it also use for Dictionary in function'''\n",
    "# example of Args\n",
    "def argument(* args):\n",
    "    return args\n",
    "argument(1,2,3,4,5)\n",
    "# example of kwargs\n",
    "def fruits(**kwargs):\n",
    "    return kwargs\n",
    "fruits(banana=5, mango=7, apple=8)\n",
    "\n",
    "\n",
    "\n"
   ]
  },
  {
   "cell_type": "code",
   "execution_count": 15,
   "id": "9c63e1ab-fdbf-40fc-b8ed-508fbc5ca7ed",
   "metadata": {},
   "outputs": [
    {
     "name": "stdout",
     "output_type": "stream",
     "text": [
      "2\n",
      "4\n",
      "6\n",
      "8\n",
      "10\n"
     ]
    }
   ],
   "source": [
    "#Q3.  What is an iterator in python? Name the method used to initialise the iterator object and the method  used for \n",
    "#iteration. Use these methods to print the first five elements of the given list [2, 4, 6, 8, 10, 12, 14,  16, 18, 20].\n",
    "'''Ans :-An iterator is an object that contains a countable number of values.\n",
    "An iterator is an object that can be iterated upon, meaning that you can traverse through all the values.\n",
    "Technically, in Python, an iterator is an object which implements the iterator protocol, which consist of the methods\n",
    "__iter__() and __next__().'''\n",
    "list = [2, 4, 6, 8, 10, 12, 14,  16, 18, 20]\n",
    "mylist = iter(list)\n",
    "print(next(mylist))\n",
    "print(next(mylist))\n",
    "print(next(mylist))\n",
    "print(next(mylist))\n",
    "print(next(mylist))"
   ]
  },
  {
   "cell_type": "code",
   "execution_count": 82,
   "id": "93a7adc4-0537-487a-8ab7-07126c5990e3",
   "metadata": {},
   "outputs": [
    {
     "name": "stdout",
     "output_type": "stream",
     "text": [
      "0\n",
      "1\n",
      "1\n",
      "2\n",
      "3\n",
      "5\n",
      "8\n",
      "13\n",
      "21\n",
      "34\n"
     ]
    }
   ],
   "source": [
    "#Q4. What is a generator function in python? Why yield keyword is used? Give an example of a generator function.\n",
    "'''Ans Python provides a generator to create your own iterator function. A generator is a special type of function which \n",
    "does not return a single value, instead, it returns an iterator object with a sequence of values. \n",
    "yield keyword is used yield keyword is used to create a generator function. A type of function that is memory efficient \n",
    "and can be used like an iterator object.'''\n",
    "def test_fibo(n):\n",
    "    a,b = 0,1\n",
    "    for i in range(n):\n",
    "        yield a \n",
    "        a,b=b,a+b\n",
    "test_fibo(10)\n",
    "for i in test_fibo(10):\n",
    "    print(i)"
   ]
  },
  {
   "cell_type": "code",
   "execution_count": 1,
   "id": "d3932716-e49a-457f-aea7-d19450e53903",
   "metadata": {},
   "outputs": [
    {
     "data": {
      "text/plain": [
       "<generator object prime_number at 0x7f4ddddc54d0>"
      ]
     },
     "execution_count": 1,
     "metadata": {},
     "output_type": "execute_result"
    }
   ],
   "source": [
    "#Q5. Create a generator function for prime numbers less than 1000. Use the next() method to print the first 20 prime \n",
    "#numbers.\n",
    "\n",
    "def prime_number():\n",
    "    for num in range(1,1001):\n",
    "        if num > 1:\n",
    "            \n",
    "            for i in range(2,num):\n",
    "                \n",
    "                 if (num % i) == 0:\n",
    "                    break\n",
    "        else:\n",
    "            print(num,\"is a prime number!\") \n",
    "   \n",
    "            yield num\n",
    "prime_number()"
   ]
  },
  {
   "cell_type": "code",
   "execution_count": 2,
   "id": "fd703b26-1bd6-468a-964a-1ff290d5eeb9",
   "metadata": {},
   "outputs": [
    {
     "ename": "TypeError",
     "evalue": "'function' object is not iterable",
     "output_type": "error",
     "traceback": [
      "\u001b[0;31m---------------------------------------------------------------------------\u001b[0m",
      "\u001b[0;31mTypeError\u001b[0m                                 Traceback (most recent call last)",
      "Cell \u001b[0;32mIn[2], line 1\u001b[0m\n\u001b[0;32m----> 1\u001b[0m gen \u001b[38;5;241m=\u001b[39m \u001b[38;5;28;43miter\u001b[39;49m\u001b[43m(\u001b[49m\u001b[43mprime_number\u001b[49m\u001b[43m)\u001b[49m\n\u001b[1;32m      2\u001b[0m \u001b[38;5;28mprint\u001b[39m(\u001b[38;5;28mnext\u001b[39m(gen))\n\u001b[1;32m      3\u001b[0m \u001b[38;5;28mprint\u001b[39m(\u001b[38;5;28mnext\u001b[39m(gen))\n",
      "\u001b[0;31mTypeError\u001b[0m: 'function' object is not iterable"
     ]
    }
   ],
   "source": [
    "gen = iter(prime_number)\n",
    "print(next(gen))\n",
    "print(next(gen))\n",
    "print(next(gen))\n",
    "print(next(gen))"
   ]
  },
  {
   "cell_type": "code",
   "execution_count": 5,
   "id": "a1a7dcf2-32a9-4c1c-88e7-c581ea5fe42b",
   "metadata": {},
   "outputs": [
    {
     "name": "stdin",
     "output_type": "stream",
     "text": [
      "Enter a number 10\n"
     ]
    },
    {
     "name": "stdout",
     "output_type": "stream",
     "text": [
      "0\n",
      "1\n",
      "1\n",
      "2\n",
      "3\n",
      "5\n",
      "8\n",
      "13\n",
      "21\n",
      "34\n",
      "55\n",
      "89\n",
      "144\n"
     ]
    }
   ],
   "source": [
    "#Q6. Write a python program to print the first 10 Fibonacci numbers using a while loop.\n",
    "n=int(input(\"Enter a number\"))\n",
    "first=0\n",
    "second=1\n",
    "count=0\n",
    "print(first)\n",
    "print(second)\n",
    "while count <= n:\n",
    "    third=first+second\n",
    "    print(third)\n",
    "    first=second\n",
    "    second=third\n",
    "    third=first\n",
    "   # first,second=second,third(another method )\n",
    "    count+=1\n"
   ]
  },
  {
   "cell_type": "code",
   "execution_count": 39,
   "id": "04267c6f-abba-4d6c-a005-7e0da886027e",
   "metadata": {},
   "outputs": [
    {
     "name": "stdout",
     "output_type": "stream",
     "text": [
      "['p', 'w', 's', 'k', 'i', 'l', 'l', 's']\n"
     ]
    }
   ],
   "source": [
    "'''Q7. Write a List Comprehension to iterate through the given string: ‘pwskills’.\n",
    "Expected output: ['p', 'w', 's', 'k', 'i', 'l', 'l', 's']'''\n",
    "A = [ i for i in 'pwskills' ]\n",
    "print( A)"
   ]
  },
  {
   "cell_type": "code",
   "execution_count": 41,
   "id": "1adbdc2f-511f-4186-b530-b6eb7bb24865",
   "metadata": {},
   "outputs": [
    {
     "name": "stdin",
     "output_type": "stream",
     "text": [
      "Enter a number: 545\n"
     ]
    },
    {
     "name": "stdout",
     "output_type": "stream",
     "text": [
      "The number is palindrome!\n"
     ]
    }
   ],
   "source": [
    "#Q8. Write a python program to check whether a given number is Palindrome or not using a while loop.\n",
    "num=int(input(\"Enter a number:\"))\n",
    "temp=num\n",
    "rev=0\n",
    "while(num>0):\n",
    "    dig=num%10\n",
    "    rev=rev*10+dig\n",
    "    num=num//10\n",
    "if(temp==rev):\n",
    "    print(\"The number is palindrome!\")\n",
    "else:\n",
    "    print(\"Not a palindrome!\")"
   ]
  },
  {
   "cell_type": "code",
   "execution_count": 23,
   "id": "b42ca9ce-6625-4a2f-b350-3df0bdc25c39",
   "metadata": {},
   "outputs": [
    {
     "data": {
      "text/plain": [
       "[1,\n",
       " 3,\n",
       " 5,\n",
       " 7,\n",
       " 9,\n",
       " 11,\n",
       " 13,\n",
       " 15,\n",
       " 17,\n",
       " 19,\n",
       " 21,\n",
       " 23,\n",
       " 25,\n",
       " 27,\n",
       " 29,\n",
       " 31,\n",
       " 33,\n",
       " 35,\n",
       " 37,\n",
       " 39,\n",
       " 41,\n",
       " 43,\n",
       " 45,\n",
       " 47,\n",
       " 49,\n",
       " 51,\n",
       " 53,\n",
       " 55,\n",
       " 57,\n",
       " 59,\n",
       " 61,\n",
       " 63,\n",
       " 65,\n",
       " 67,\n",
       " 69,\n",
       " 71,\n",
       " 73,\n",
       " 75,\n",
       " 77,\n",
       " 79,\n",
       " 81,\n",
       " 83,\n",
       " 85,\n",
       " 87,\n",
       " 89,\n",
       " 91,\n",
       " 93,\n",
       " 95,\n",
       " 97,\n",
       " 99]"
      ]
     },
     "execution_count": 23,
     "metadata": {},
     "output_type": "execute_result"
    }
   ],
   "source": [
    "#Q9. Write a code to print odd numbers from 1 to 100 using list comprehension.\n",
    "\n",
    "[i for i in range(1,100) if i%2==1]"
   ]
  },
  {
   "cell_type": "code",
   "execution_count": null,
   "id": "f2b5f391-25ef-4373-94d7-c6ec6f8d15b3",
   "metadata": {},
   "outputs": [],
   "source": []
  }
 ],
 "metadata": {
  "kernelspec": {
   "display_name": "Python 3 (ipykernel)",
   "language": "python",
   "name": "python3"
  },
  "language_info": {
   "codemirror_mode": {
    "name": "ipython",
    "version": 3
   },
   "file_extension": ".py",
   "mimetype": "text/x-python",
   "name": "python",
   "nbconvert_exporter": "python",
   "pygments_lexer": "ipython3",
   "version": "3.10.8"
  }
 },
 "nbformat": 4,
 "nbformat_minor": 5
}
